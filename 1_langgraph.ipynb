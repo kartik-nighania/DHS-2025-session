{
 "cells": [
  {
   "cell_type": "markdown",
   "id": "be23cb34",
   "metadata": {},
   "source": [
    "# LangGraph DEMO"
   ]
  },
  {
   "cell_type": "markdown",
   "id": "15c91a60",
   "metadata": {},
   "source": [
    "## Define state"
   ]
  },
  {
   "cell_type": "code",
   "execution_count": 28,
   "id": "6a90709b-ddfa-4671-8acc-c59969a29991",
   "metadata": {},
   "outputs": [],
   "source": [
    "from typing import TypedDict\n",
    "import random\n",
    "from typing import Literal\n",
    "from IPython.display import Image, display\n",
    "\n",
    "from langgraph.graph import StateGraph, START, END\n",
    "\n",
    "class State(TypedDict):\n",
    "    graph_state: str"
   ]
  },
  {
   "cell_type": "markdown",
   "id": "0e67182f",
   "metadata": {},
   "source": [
    "## Define nodes and edges"
   ]
  },
  {
   "cell_type": "code",
   "execution_count": 29,
   "id": "e8aabcb7-494c-4d35-be08-f81c76d75a6b",
   "metadata": {},
   "outputs": [],
   "source": [
    "def intro_node(state: State):\n",
    "    print(\"Inside intro_node. Modifying state.\\n\\n\")\n",
    "    return {\"graph_state\": state['graph_state'] +\"Welcome to DHS 2025.\"}\n",
    "\n",
    "def ai_node(state: State):\n",
    "    print(\"Inside ai_node. Modifying state.\\n\\n\")\n",
    "    # AI operations\n",
    "    return {\"graph_state\": state['graph_state'] +\" I'm an AI agent node\"}\n",
    "\n",
    "def code_node(state: State):\n",
    "    print(\"Inside code_node. Modifying state.\\n\\n\")\n",
    "    # code logic\n",
    "    return {\"graph_state\": state['graph_state'] +\" I'm a code node\"}\n",
    "\n",
    "def edge_condition(state: State) -> Literal[\"ai_node\", \"code_node\"]:\n",
    "    print(f\"Inside edge with {state} \\n\\n\")\n",
    "    \n",
    "    if random.random() < 0.5:\n",
    "        return \"ai_node\"\n",
    "    return \"code_node\""
   ]
  },
  {
   "cell_type": "markdown",
   "id": "4b6f6362",
   "metadata": {},
   "source": [
    "## Create graph"
   ]
  },
  {
   "cell_type": "code",
   "execution_count": 30,
   "id": "7e53543a-902a-4d41-ad3d-25eee260e819",
   "metadata": {},
   "outputs": [
    {
     "data": {
      "image/png": "[encoded data removed]",
      "text/plain": [
       "<IPython.core.display.Image object>"
      ]
     },
     "metadata": {},
     "output_type": "display_data"
    }
   ],
   "source": [
    "builder = StateGraph(State)\n",
    "builder.add_node(\"intro_node\", intro_node)\n",
    "builder.add_node(\"ai_node\", ai_node)\n",
    "builder.add_node(\"code_node\", code_node)\n",
    "\n",
    "\n",
    "builder.add_edge(START, \"intro_node\")\n",
    "builder.add_conditional_edges(\"intro_node\", edge_condition)\n",
    "builder.add_edge(\"ai_node\", END)\n",
    "builder.add_edge(\"code_node\", END)\n",
    "\n",
    "graph = builder.compile()\n",
    "display(Image(graph.get_graph().draw_mermaid_png()))"
   ]
  },
  {
   "cell_type": "markdown",
   "id": "b363f29e",
   "metadata": {},
   "source": [
    "## Run graph"
   ]
  },
  {
   "cell_type": "code",
   "execution_count": 31,
   "id": "e895f17a-e835-4e8a-8e1b-63fe6d27cc52",
   "metadata": {},
   "outputs": [
    {
     "name": "stdout",
     "output_type": "stream",
     "text": [
      "Inside intro_node. Modifying state.\n",
      "\n",
      "\n",
      "Inside edge with {'graph_state': \"Hi!, I'm Kartik. Welcome to DHS 2025.\"} \n",
      "\n",
      "\n",
      "Inside code_node. Modifying state.\n",
      "\n",
      "\n"
     ]
    },
    {
     "data": {
      "text/plain": [
       "{'graph_state': \"Hi!, I'm Kartik. Welcome to DHS 2025. I'm a code node\"}"
      ]
     },
     "execution_count": 31,
     "metadata": {},
     "output_type": "execute_result"
    }
   ],
   "source": [
    "# Unique state variable for each run\n",
    "graph.invoke({\"graph_state\" : \"Hi!, I'm Kartik. \"})"
   ]
  },
  {
   "cell_type": "markdown",
   "id": "c9901fb5",
   "metadata": {},
   "source": [
    "# LangSmith Tracing DEMO"
   ]
  },
  {
   "cell_type": "markdown",
   "id": "6570898c",
   "metadata": {},
   "source": [
    "## Setup LangSmith"
   ]
  },
  {
   "cell_type": "code",
   "execution_count": 32,
   "id": "aa2c8a3f",
   "metadata": {},
   "outputs": [
    {
     "name": "stdout",
     "output_type": "stream",
     "text": [
      "True\n"
     ]
    }
   ],
   "source": [
    "from dotenv import load_dotenv\n",
    "print(load_dotenv('.env'))\n",
    "\n",
    "# LANGSMITH_TRACING=\"true\"\n",
    "# LANGSMITH_ENDPOINT=\"https://api.smith.langchain.com\"\n",
    "# LANGSMITH_PROJECT=\"agentic-ops\"\n",
    "# LANGSMITH_API_KEY=\"\"\n",
    "# OPENAI_API_KEY=\"\""
   ]
  },
  {
   "cell_type": "code",
   "execution_count": 33,
   "id": "a9c1a56e",
   "metadata": {},
   "outputs": [],
   "source": [
    "from langchain_openai import ChatOpenAI\n",
    "\n",
    "llm = ChatOpenAI(model=\"gpt-4.1-mini\", temperature=0)\n",
    "\n",
    "def real_ai_node(state: State):\n",
    "    print(\"Inside ai_node. Modifying state.\\n\\n\")\n",
    "    resp = llm.invoke(state['graph_state'])\n",
    "    return {\"graph_state\": state['graph_state'] +\" I'm AI. The weather in Bangalore today is \" + resp.content}\n",
    "\n",
    "\n",
    "def edge_condition(state: State) -> Literal[\"real_ai_node\", \"code_node\"]:\n",
    "    return \"real_ai_node\""
   ]
  },
  {
   "cell_type": "code",
   "execution_count": 34,
   "id": "b25522a2",
   "metadata": {},
   "outputs": [
    {
     "data": {
      "image/png": "[encoded data removed]",
      "text/plain": [
       "<IPython.core.display.Image object>"
      ]
     },
     "metadata": {},
     "output_type": "display_data"
    }
   ],
   "source": [
    "builder = StateGraph(State)\n",
    "builder.add_node(\"intro_node\", intro_node)\n",
    "builder.add_node(\"real_ai_node\", real_ai_node)\n",
    "builder.add_node(\"code_node\", code_node)\n",
    "\n",
    "\n",
    "builder.add_edge(START, \"intro_node\")\n",
    "builder.add_conditional_edges(\"intro_node\", edge_condition)\n",
    "builder.add_edge(\"real_ai_node\", END)\n",
    "builder.add_edge(\"code_node\", END)\n",
    "\n",
    "graph2 = builder.compile()\n",
    "display(Image(graph2.get_graph().draw_mermaid_png()))"
   ]
  },
  {
   "cell_type": "code",
   "execution_count": 35,
   "id": "ae255a00",
   "metadata": {},
   "outputs": [
    {
     "name": "stdout",
     "output_type": "stream",
     "text": [
      "{'configurable': {'thread_id': UUID('330eb26f-4161-40a2-8ca7-f410f17cc461')}, 'metadata': {'thread_id': UUID('330eb26f-4161-40a2-8ca7-f410f17cc461')}}\n",
      "Inside intro_node. Modifying state.\n",
      "\n",
      "\n",
      "Inside ai_node. Modifying state.\n",
      "\n",
      "\n"
     ]
    },
    {
     "data": {
      "text/plain": [
       "{'graph_state': \"What is the capital of Karnataka? Welcome to DHS 2025. I'm AI. The weather in Bangalore today is The capital of Karnataka is Bengaluru.  \\nWelcome to DHS 2025! How can I assist you today?\"}"
      ]
     },
     "execution_count": 35,
     "metadata": {},
     "output_type": "execute_result"
    }
   ],
   "source": [
    "import uuid\n",
    "thread_id = uuid.uuid4()\n",
    "config = {\"configurable\": {\"thread_id\": thread_id}, \"metadata\": {\"thread_id\": thread_id}}\n",
    "print(config)\n",
    "graph2.invoke({\"graph_state\" : \"What is the capital of Karnataka? \"}, config=config)"
   ]
  },
  {
   "cell_type": "code",
   "execution_count": 36,
   "id": "2ef5fa1a",
   "metadata": {},
   "outputs": [
    {
     "name": "stdout",
     "output_type": "stream",
     "text": [
      "Inside intro_node. Modifying state.\n",
      "\n",
      "\n",
      "Inside ai_node. Modifying state.\n",
      "\n",
      "\n"
     ]
    },
    {
     "data": {
      "text/plain": [
       "{'graph_state': \"What is there to do in Bangalore in the month of August?Welcome to DHS 2025. I'm AI. The weather in Bangalore today is Welcome to DHS 2025! If you're visiting Bangalore in August, you're in for a treat. August is part of the monsoon season in Bangalore, which means the city is lush and green, with pleasant weather and occasional showers. Here are some great things to do in Bangalore during August:\\n\\n### Outdoor Activities & Nature\\n1. **Lalbagh Botanical Garden**  \\n   Enjoy the vibrant greenery and blooming flowers. The monsoon season makes the garden especially beautiful. Don’t miss the famous glasshouse and the lake area.\\n\\n2. **Cubbon Park**  \\n   A perfect spot for morning walks, cycling, or just relaxing amidst nature. The park is cooler and fresher during the rains.\\n\\n3. **Nandi Hills**  \\n   A bit outside the city, this hill station is great for a day trip. The monsoon mist adds a magical touch to the views. Ideal for trekking and photography.\\n\\n4. **Bannerghatta National Park**  \\n   Explore the zoo, butterfly park, and safari. The park is lush during the monsoon, and animals are more active.\\n\\n### Cultural & Indoor Activities\\n1. **Visit Museums and Art Galleries**  \\n   - **Visvesvaraya Industrial and Technological Museum**  \\n   - **National Gallery of Modern Art**  \\n   - **Government Museum**  \\n   These are great places to explore if the rain gets heavy.\\n\\n2. **Attend Cultural Events and Festivals**  \\n   August often features events related to Independence Day (August 15th), including parades, cultural programs, and exhibitions.\\n\\n3. **Shopping and Cafes**  \\n   Explore areas like Commercial Street, Brigade Road, and Indiranagar for shopping and cozy cafes. Monsoon is perfect for enjoying Bangalore’s vibrant café culture.\\n\\n### Food & Nightlife\\n- Try monsoon special street foods like pakoras, chai, and hot soups.\\n- Bangalore’s pubs and microbreweries (like Toit, Arbor Brewing Company) are great for evenings.\\n\\n### Special August Events\\n- **Independence Day Celebrations**: Various events and parades.\\n- **Monsoon Music Festivals**: Keep an eye out for local music gigs and festivals that happen during this time.\\n\\n### Tips for August\\n- Carry an umbrella or raincoat.\\n- Wear comfortable shoes suitable for wet conditions.\\n- Plan outdoor activities in the morning to avoid heavy afternoon showers.\\n\\nEnjoy your time in Bangalore and DHS 2025! If you want recommendations tailored to your interests, feel free to ask.\"}"
      ]
     },
     "execution_count": 36,
     "metadata": {},
     "output_type": "execute_result"
    }
   ],
   "source": [
    "# Multi-turn graph\n",
    "graph2.invoke({\"graph_state\" : \"What is there to do in Bangalore in the month of August?\"}, config=config)"
   ]
  },
  {
   "cell_type": "code",
   "execution_count": null,
   "id": "50fffc6c",
   "metadata": {},
   "outputs": [],
   "source": []
  }
 ],
 "metadata": {
  "kernelspec": {
   "display_name": "venv",
   "language": "python",
   "name": "python3"
  },
  "language_info": {
   "codemirror_mode": {
    "name": "ipython",
    "version": 3
   },
   "file_extension": ".py",
   "mimetype": "text/x-python",
   "name": "python",
   "nbconvert_exporter": "python",
   "pygments_lexer": "ipython3",
   "version": "3.12.0"
  }
 },
 "nbformat": 4,
 "nbformat_minor": 5
}
